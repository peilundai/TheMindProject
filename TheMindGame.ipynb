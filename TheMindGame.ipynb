{
 "cells": [
  {
   "cell_type": "code",
   "execution_count": 1,
   "metadata": {},
   "outputs": [],
   "source": [
    "import numpy as np\n",
    "import torch\n",
    "import matplotlib.pyplot as plt\n",
    "%matplotlib inline"
   ]
  },
  {
   "cell_type": "markdown",
   "metadata": {},
   "source": [
    "## Definining related classes"
   ]
  },
  {
   "cell_type": "code",
   "execution_count": 126,
   "metadata": {},
   "outputs": [],
   "source": [
    "class Player:\n",
    "    \n",
    "    def __init__(self, name, level):\n",
    "        self.name = name\n",
    "        self.level = level\n",
    "        self.cards = []\n",
    "\n",
    "    def __str__(self):\n",
    "        return \"Name: \" + str(self.name) + '\\n' + \"Cards: \" + str(self.cards)\n",
    "        \n",
    "    def get_name(self):\n",
    "        return self.name\n",
    "    \n",
    "    def set_level(self, level):\n",
    "        self.level = level\n",
    "        \n",
    "    def draw_cards(self, deck):\n",
    "        self.cards = deck.get_all_cards()[-self.level:]\n",
    "        deck.set_cards(deck.get_all_cards()[:-self.level])\n",
    "    \n",
    "    def remove_card(self, card):\n",
    "        if card not in self.cards:\n",
    "            print(\"You don't have card \", str(card))\n",
    "            print(\"Please choose another card\")\n",
    "        self.cards.remove(card)\n",
    "    \n",
    "    def play(self, card, table):\n",
    "        if card not in self.cards:\n",
    "            print(\"You don't have card \", str(card))\n",
    "            print(\"Please choose another card\")\n",
    "        else:\n",
    "            self.remove_card(card)\n",
    "            table.add_card(card)\n",
    "        \n",
    "    # Based on what is on the table propose how long should wait to play next card \n",
    "    # (always the smallest card in your hands)\n",
    "    def proposal(self, table):\n",
    "        return 2\n",
    "        \n",
    "\n",
    "class Table:\n",
    "    \n",
    "    def __init__(self):\n",
    "        self.cards = []\n",
    "        \n",
    "    def __str__(self):\n",
    "        return str(self.show_all_cards())\n",
    "        \n",
    "    def add_card(self, card):\n",
    "        self.cards.append(card)\n",
    "        \n",
    "    def show_all_cards(self):\n",
    "        return self.cards\n",
    "    \n",
    "    def show_top_card(self):\n",
    "        return self.cards[-1]\n",
    "\n",
    "class Deck:\n",
    "    def __init__(self, total_num_cards):\n",
    "        all_cards = np.arange(total_num_cards) + 1\n",
    "        np.random.shuffle(all_cards)\n",
    "        self.deck = all_cards\n",
    "        \n",
    "    def __str__(self):\n",
    "        pass\n",
    "        \n",
    "    def get_all_cards(self):\n",
    "        return self.deck\n",
    "    \n",
    "    def set_cards(self, new_cards):\n",
    "        self.deck = new_cards\n",
    "\n",
    "class Clock:\n",
    "    def __init__(self):\n",
    "        self.time = 0\n",
    "    def __str__(self):\n",
    "        return \"Current time step is \" + str(self.time)\n",
    "    def read_time(self):\n",
    "        return self.time\n",
    "    def step(self):\n",
    "        self.time = self.time + 1\n",
    "    def reset(self):\n",
    "        self.time = 0\n",
    "        \n",
    "class Game:\n",
    "    def __init__(self, player_names , level, total_num_cards):\n",
    "        self.players = [Player(name, level) for name in player_names]\n",
    "        self.table = Table()\n",
    "        self.deck = Deck(total_num_cards)\n",
    "    \n",
    "        \n",
    "        "
   ]
  },
  {
   "cell_type": "markdown",
   "metadata": {},
   "source": [
    "## Client code"
   ]
  },
  {
   "cell_type": "code",
   "execution_count": 127,
   "metadata": {},
   "outputs": [],
   "source": [
    "p1 = Player(\"Ellen\", 2)\n",
    "p2 = Player(\"James\", 2)\n",
    "p3 = Player(\"Peilun\", 2)\n",
    "deck = Deck(100)\n",
    "table = Table()"
   ]
  },
  {
   "cell_type": "code",
   "execution_count": 130,
   "metadata": {},
   "outputs": [],
   "source": [
    "p1.draw_cards(deck)"
   ]
  },
  {
   "cell_type": "code",
   "execution_count": 131,
   "metadata": {},
   "outputs": [
    {
     "data": {
      "text/plain": [
       "array([30, 95])"
      ]
     },
     "execution_count": 131,
     "metadata": {},
     "output_type": "execute_result"
    }
   ],
   "source": [
    "p1."
   ]
  },
  {
   "cell_type": "code",
   "execution_count": 132,
   "metadata": {},
   "outputs": [
    {
     "data": {
      "text/plain": [
       "98"
      ]
     },
     "execution_count": 132,
     "metadata": {},
     "output_type": "execute_result"
    }
   ],
   "source": [
    "len(deck.get_all_cards())"
   ]
  },
  {
   "cell_type": "code",
   "execution_count": 142,
   "metadata": {},
   "outputs": [],
   "source": [
    "a = [1, 2, 2, 3, 2]\n",
    "b = {str(i):i for i in a}"
   ]
  },
  {
   "cell_type": "code",
   "execution_count": 143,
   "metadata": {},
   "outputs": [],
   "source": [
    "any_play = [i for i in range(len(a)) if a[i] == 2]"
   ]
  },
  {
   "cell_type": "code",
   "execution_count": 155,
   "metadata": {},
   "outputs": [
    {
     "name": "stdout",
     "output_type": "stream",
     "text": [
      "2\n",
      "1\n",
      "1\n",
      "1\n",
      "2\n",
      "1\n",
      "4\n",
      "1\n",
      "4\n",
      "1\n",
      "2\n",
      "2\n",
      "2\n",
      "2\n",
      "1\n",
      "2\n",
      "1\n",
      "1\n",
      "4\n",
      "4\n",
      "1\n",
      "1\n",
      "4\n",
      "2\n",
      "2\n",
      "2\n",
      "1\n",
      "4\n",
      "4\n",
      "1\n",
      "4\n",
      "1\n",
      "4\n",
      "4\n",
      "1\n",
      "1\n",
      "1\n",
      "2\n",
      "1\n",
      "1\n",
      "1\n",
      "1\n",
      "1\n",
      "2\n",
      "4\n",
      "2\n",
      "1\n",
      "1\n",
      "4\n",
      "4\n",
      "1\n",
      "1\n",
      "4\n",
      "1\n",
      "2\n",
      "2\n",
      "1\n",
      "4\n",
      "4\n",
      "1\n",
      "1\n",
      "2\n",
      "1\n",
      "2\n",
      "4\n",
      "1\n",
      "2\n",
      "1\n",
      "4\n",
      "1\n",
      "4\n",
      "2\n",
      "4\n",
      "4\n",
      "2\n",
      "2\n",
      "1\n",
      "2\n",
      "4\n",
      "2\n",
      "2\n",
      "2\n",
      "4\n",
      "4\n",
      "1\n",
      "2\n",
      "1\n",
      "2\n",
      "4\n",
      "2\n",
      "4\n",
      "1\n",
      "1\n",
      "1\n",
      "1\n",
      "4\n",
      "4\n",
      "4\n",
      "2\n",
      "2\n"
     ]
    }
   ],
   "source": [
    "import random\n",
    "for i in range(100):\n",
    "    print(random.choice(any_play))"
   ]
  },
  {
   "cell_type": "code",
   "execution_count": 156,
   "metadata": {},
   "outputs": [
    {
     "data": {
      "text/plain": [
       "2"
      ]
     },
     "execution_count": 156,
     "metadata": {},
     "output_type": "execute_result"
    }
   ],
   "source": [
    "min([2, 2, 5])"
   ]
  },
  {
   "cell_type": "code",
   "execution_count": 159,
   "metadata": {},
   "outputs": [],
   "source": [
    "a = {\"haa\":1, \"2\":2}"
   ]
  },
  {
   "cell_type": "code",
   "execution_count": 164,
   "metadata": {},
   "outputs": [
    {
     "name": "stdout",
     "output_type": "stream",
     "text": [
      "haa 1\n",
      "2 2\n"
     ]
    }
   ],
   "source": [
    "for key in a:\n",
    "    print(key, a[key])\n",
    "    "
   ]
  },
  {
   "cell_type": "code",
   "execution_count": null,
   "metadata": {},
   "outputs": [],
   "source": []
  }
 ],
 "metadata": {
  "kernelspec": {
   "display_name": "Python 3",
   "language": "python",
   "name": "python3"
  },
  "language_info": {
   "codemirror_mode": {
    "name": "ipython",
    "version": 3
   },
   "file_extension": ".py",
   "mimetype": "text/x-python",
   "name": "python",
   "nbconvert_exporter": "python",
   "pygments_lexer": "ipython3",
   "version": "3.6.8"
  }
 },
 "nbformat": 4,
 "nbformat_minor": 2
}
